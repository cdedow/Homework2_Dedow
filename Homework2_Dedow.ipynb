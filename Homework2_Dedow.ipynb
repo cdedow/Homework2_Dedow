{
  "nbformat": 4,
  "nbformat_minor": 0,
  "metadata": {
    "colab": {
      "provenance": []
    },
    "kernelspec": {
      "name": "python3",
      "display_name": "Python 3"
    },
    "language_info": {
      "name": "python"
    }
  },
  "cells": [
    {
      "cell_type": "code",
      "execution_count": 23,
      "metadata": {
        "id": "Jnz4XPNwTar1"
      },
      "outputs": [],
      "source": [
        "#PART 1: Create a 50 Element List\n",
        "import random #i imported the random package from python to generate random numbers\n",
        "random.seed() #i set the seed to initialize the random number generator\n",
        "\n",
        "L = [] #i initialized an empty list, which the random numbers will be added to\n",
        "for i in range(0,50): #i started a for loop using i that will iterate over 0 to 49 (because 50 is exclusive, but still 50 iterations) and carry out the process below while it is in that range\n",
        "  a = random.randint(1,100) #i created variable a and used the random integer function and part of the random package in python that will fall between 1 and 100 (it is inclusive)\n",
        "  L.append(a) #i then append the random integer to my list that i initialized before the for loop\n"
      ]
    },
    {
      "cell_type": "code",
      "source": [
        "#PART 2: Implement Sorting Algorithms\n",
        "#2A: Bubble Algorithm\n",
        "def bubble_sort(L): #i start by defining a function that takes a list L as input\n",
        "  n = len(L) #i use len to determine how long the list is and set it to the variable n so i can use it for iterations and indexing\n",
        "  for i in range(n): #i initialize a for loop that uses i to iterate the number of time coorelated with the length of the list that was input\n",
        "    for j in range(0, n - i - 1): #within the previous for loop, i initialize another for loop that uses j to iterate up until the unsorted portion. this is to compare the numbers that come before i, but not the ones after. this leaves the previously sorted, largest number, alone because it does not need to be compared again\n",
        "      if L[j] > L[j + 1]: #i then use a conditional if statement to compare the the number at the index of the list that j says, to the one that follows it\n",
        "        L[j], L[j + 1] = L[j + 1], L[j] # if the first number is bigger, we swap the order so that the bigger number is placed after the smaller number\n",
        "  return (L) #i use the return statement to return the final, sorted list. it is outside of the for loops, so it will be returned once all of the iterations are completed"
      ],
      "metadata": {
        "id": "pgMGIsAzV-N0"
      },
      "execution_count": 18,
      "outputs": []
    },
    {
      "cell_type": "code",
      "source": [
        "#PART 2B: Insertion Algorithm\n",
        "\n",
        "def insertion_sort(L): #i start by defining a function that takes a list as an input\n",
        "  for i in range(1, len(L)): #i initialize a for loop that uses i and iterates until the length of the list put in\n",
        "    num = L[i] #i set a varaible equal to the value that is indexed from the list by the iteration to be used for sorting\n",
        "    j = i - 1 #i intialize a new variable to be used in indexing for comparison and it takes on a values one less than the value i has taken on\n",
        "    while j >= 0 and L[j] > num: #i then initialize a while loop for when j is greater than 0 and the indexed number by j (which is one less than i) is greater than the one before it (indexed by i in num)\n",
        "      L[j + 1] = L[j] #i index the list for the number that is after j and set it equal to the number that is indexed at . this shift it one position to the right.\n",
        "      j = j - 1 #i then substract j - 1 to get the while loop to keep going down to 0. this keeps it shifting to the next element.\n",
        "    L[j + 1] = num #outside of the while loop but in the for loop, i index L to get the number after j and set it equal to the num, changing it and moving it to the correct position in the list\n",
        "  return L #i use the return statement to return the final sorted list. its outside of the for loops, so it will be returned after all the iterations are going to be complteted"
      ],
      "metadata": {
        "id": "88MZ-AHl8pIt"
      },
      "execution_count": 19,
      "outputs": []
    },
    {
      "cell_type": "code",
      "source": [
        "#PART 3: Test the Code\n",
        "print(L)"
      ],
      "metadata": {
        "colab": {
          "base_uri": "https://localhost:8080/"
        },
        "id": "AiGW70DYWKf_",
        "outputId": "fa44263e-b5c7-4322-c334-5e80b536ca71"
      },
      "execution_count": 22,
      "outputs": [
        {
          "output_type": "stream",
          "name": "stdout",
          "text": [
            "[1, 2, 7, 7, 10, 10, 11, 13, 16, 18, 21, 28, 29, 31, 32, 33, 33, 40, 43, 44, 46, 47, 48, 50, 51, 52, 54, 55, 56, 56, 59, 59, 60, 60, 60, 63, 65, 65, 69, 72, 73, 78, 79, 85, 91, 91, 93, 93, 96, 99]\n"
          ]
        }
      ]
    },
    {
      "cell_type": "code",
      "source": [
        "print(bubble_sort(L))"
      ],
      "metadata": {
        "colab": {
          "base_uri": "https://localhost:8080/"
        },
        "id": "DqNq7b9_WOL_",
        "outputId": "982d28aa-ed3d-42ff-b4d9-bea346d03b74"
      },
      "execution_count": 24,
      "outputs": [
        {
          "output_type": "stream",
          "name": "stdout",
          "text": [
            "[1, 3, 4, 5, 11, 12, 13, 16, 16, 19, 23, 25, 26, 26, 26, 33, 35, 36, 39, 46, 46, 48, 48, 51, 51, 51, 57, 57, 58, 60, 63, 64, 68, 72, 76, 77, 77, 78, 81, 82, 85, 86, 87, 87, 87, 90, 91, 94, 96, 97]\n"
          ]
        }
      ]
    },
    {
      "cell_type": "code",
      "source": [
        "print(L) #go to cell 1 and generate new list, then run this code"
      ],
      "metadata": {
        "colab": {
          "base_uri": "https://localhost:8080/"
        },
        "id": "2P6Jre2Z-lN-",
        "outputId": "57baaf35-b04c-4628-9e06-4ecbe875abd9"
      },
      "execution_count": 20,
      "outputs": [
        {
          "output_type": "stream",
          "name": "stdout",
          "text": [
            "[28, 72, 31, 91, 65, 51, 60, 18, 56, 1, 50, 44, 40, 43, 16, 93, 13, 32, 69, 21, 78, 7, 85, 63, 96, 60, 29, 65, 7, 11, 59, 91, 48, 54, 99, 60, 33, 10, 93, 73, 47, 79, 59, 52, 10, 55, 46, 33, 2, 56]\n"
          ]
        }
      ]
    },
    {
      "cell_type": "code",
      "source": [
        "print(insertion_sort(L))"
      ],
      "metadata": {
        "colab": {
          "base_uri": "https://localhost:8080/"
        },
        "id": "gUcpPmRAeCeH",
        "outputId": "48fb78b5-17e6-4e25-de4f-83309533d6e3"
      },
      "execution_count": 21,
      "outputs": [
        {
          "output_type": "stream",
          "name": "stdout",
          "text": [
            "[1, 2, 7, 7, 10, 10, 11, 13, 16, 18, 21, 28, 29, 31, 32, 33, 33, 40, 43, 44, 46, 47, 48, 50, 51, 52, 54, 55, 56, 56, 59, 59, 60, 60, 60, 63, 65, 65, 69, 72, 73, 78, 79, 85, 91, 91, 93, 93, 96, 99]\n"
          ]
        }
      ]
    }
  ]
}